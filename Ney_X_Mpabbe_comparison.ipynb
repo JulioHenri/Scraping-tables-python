{
  "nbformat": 4,
  "nbformat_minor": 0,
  "metadata": {
    "colab": {
      "provenance": [],
      "collapsed_sections": [],
      "authorship_tag": "ABX9TyP6f2SGrEpeDrvDxuQ7prPR",
      "include_colab_link": true
    },
    "kernelspec": {
      "name": "python3",
      "display_name": "Python 3"
    }
  },
  "cells": [
    {
      "cell_type": "markdown",
      "metadata": {
        "id": "view-in-github",
        "colab_type": "text"
      },
      "source": [
        "<a href=\"https://colab.research.google.com/github/JulioHenri/Scraping-tables-python/blob/master/Ney_X_Mpabbe_comparison.ipynb\" target=\"_parent\"><img src=\"https://colab.research.google.com/assets/colab-badge.svg\" alt=\"Open In Colab\"/></a>"
      ]
    },
    {
      "cell_type": "markdown",
      "metadata": {
        "id": "9-QQXyLhL6Ep"
      },
      "source": [
        "# Introduction"
      ]
    },
    {
      "cell_type": "markdown",
      "metadata": {
        "id": "1nQW_echL_mf"
      },
      "source": [
        "Know your dataset is an important skill that all Data Scients need to know, but for that you first know how collect your data to analyze, explore and do whatever you want with your dataset because they will not came to you on csv files like Kaggle.\n",
        "\n",
        "In this project I'll collect two tables from a website (That is called Web Scraping) where contains stats of 2 players of football: Neymar and Mbappe and explore this data. "
      ]
    },
    {
      "cell_type": "markdown",
      "metadata": {
        "id": "pBtAbyBGRu-Q"
      },
      "source": [
        "#Importing Libs"
      ]
    },
    {
      "cell_type": "code",
      "metadata": {
        "id": "OqrnR1jmIQ7z"
      },
      "source": [
        "import requests\n",
        "from bs4 import BeautifulSoup\n",
        "from urllib.request import urlopen\n",
        "import pandas as pd\n",
        "import numpy as np\n",
        "import matplotlib.pyplot as plt\n",
        "import seaborn as sns\n",
        "\n",
        "%matplotlib inline\n"
      ],
      "execution_count": 1,
      "outputs": []
    },
    {
      "cell_type": "markdown",
      "metadata": {
        "id": "UjdBADbPRyny"
      },
      "source": [
        "#Inicial Scraping"
      ]
    },
    {
      "cell_type": "code",
      "metadata": {
        "id": "0Ol9HDmcIdLi"
      },
      "source": [
        "url = 'https://fbref.com/en/players/69384e5d/all_comps/Neymar-Stats---All-Competitions'\n",
        "response = urlopen(url)\n",
        "\n",
        "#reading html\n",
        "html = response.read()"
      ],
      "execution_count": 2,
      "outputs": []
    },
    {
      "cell_type": "code",
      "metadata": {
        "id": "Zha0hnIkJtK2"
      },
      "source": [
        "#reading organized html \n",
        "soup = BeautifulSoup(html, 'html.parser')"
      ],
      "execution_count": 3,
      "outputs": []
    },
    {
      "cell_type": "code",
      "metadata": {
        "id": "9RfkbfmAJ5yw"
      },
      "source": [
        "table = soup.find_all(name='table')\n",
        "table = table[0]\n"
      ],
      "execution_count": 4,
      "outputs": []
    },
    {
      "cell_type": "code",
      "metadata": {
        "id": "_F0jJanLKqCv"
      },
      "source": [
        "#transforming table into string\n",
        "table_str = str(table)"
      ],
      "execution_count": null,
      "outputs": []
    },
    {
      "cell_type": "code",
      "metadata": {
        "id": "9vg0w2zYLY0u",
        "colab": {
          "base_uri": "https://localhost:8080/",
          "height": 269
        },
        "outputId": "e0122aae-bc3d-41f9-d9b5-a2a63e657a3f"
      },
      "source": [
        "#reading online the first table of website\n",
        "neymar = pd.read_html(table_str)[0]\n",
        "neymar.head()"
      ],
      "execution_count": null,
      "outputs": [
        {
          "output_type": "execute_result",
          "data": {
            "text/html": [
              "<div>\n",
              "<style scoped>\n",
              "    .dataframe tbody tr th:only-of-type {\n",
              "        vertical-align: middle;\n",
              "    }\n",
              "\n",
              "    .dataframe tbody tr th {\n",
              "        vertical-align: top;\n",
              "    }\n",
              "\n",
              "    .dataframe thead tr th {\n",
              "        text-align: left;\n",
              "    }\n",
              "</style>\n",
              "<table border=\"1\" class=\"dataframe\">\n",
              "  <thead>\n",
              "    <tr>\n",
              "      <th></th>\n",
              "      <th>Unnamed: 0_level_0</th>\n",
              "      <th>Unnamed: 1_level_0</th>\n",
              "      <th>Unnamed: 2_level_0</th>\n",
              "      <th>Unnamed: 3_level_0</th>\n",
              "      <th>Unnamed: 4_level_0</th>\n",
              "      <th colspan=\"3\" halign=\"left\">Playing Time</th>\n",
              "      <th colspan=\"6\" halign=\"left\">Performance</th>\n",
              "      <th colspan=\"5\" halign=\"left\">Per 90 Minutes</th>\n",
              "      <th colspan=\"3\" halign=\"left\">Expected</th>\n",
              "      <th colspan=\"5\" halign=\"left\">Per 90 Minutes</th>\n",
              "      <th>Unnamed: 27_level_0</th>\n",
              "    </tr>\n",
              "    <tr>\n",
              "      <th></th>\n",
              "      <th>Season</th>\n",
              "      <th>Age</th>\n",
              "      <th>Squad</th>\n",
              "      <th>Country</th>\n",
              "      <th>Comp</th>\n",
              "      <th>MP</th>\n",
              "      <th>Starts</th>\n",
              "      <th>Min</th>\n",
              "      <th>Gls</th>\n",
              "      <th>Ast</th>\n",
              "      <th>PK</th>\n",
              "      <th>PKatt</th>\n",
              "      <th>CrdY</th>\n",
              "      <th>CrdR</th>\n",
              "      <th>Gls</th>\n",
              "      <th>Ast</th>\n",
              "      <th>G+A</th>\n",
              "      <th>G-PK</th>\n",
              "      <th>G+A-PK</th>\n",
              "      <th>xG</th>\n",
              "      <th>npxG</th>\n",
              "      <th>xA</th>\n",
              "      <th>xG</th>\n",
              "      <th>xA</th>\n",
              "      <th>xG+xA</th>\n",
              "      <th>npxG</th>\n",
              "      <th>npxG+xA</th>\n",
              "      <th>Matches</th>\n",
              "    </tr>\n",
              "  </thead>\n",
              "  <tbody>\n",
              "    <tr>\n",
              "      <th>0</th>\n",
              "      <td>2013-2014</td>\n",
              "      <td>21</td>\n",
              "      <td>Barcelona</td>\n",
              "      <td>NaN</td>\n",
              "      <td>1. Champions Lg</td>\n",
              "      <td>10</td>\n",
              "      <td>9</td>\n",
              "      <td>776</td>\n",
              "      <td>4</td>\n",
              "      <td>3</td>\n",
              "      <td>0</td>\n",
              "      <td>0</td>\n",
              "      <td>1</td>\n",
              "      <td>0</td>\n",
              "      <td>0.46</td>\n",
              "      <td>0.35</td>\n",
              "      <td>0.81</td>\n",
              "      <td>0.46</td>\n",
              "      <td>0.81</td>\n",
              "      <td>NaN</td>\n",
              "      <td>NaN</td>\n",
              "      <td>NaN</td>\n",
              "      <td>NaN</td>\n",
              "      <td>NaN</td>\n",
              "      <td>NaN</td>\n",
              "      <td>NaN</td>\n",
              "      <td>NaN</td>\n",
              "      <td>Matches</td>\n",
              "    </tr>\n",
              "    <tr>\n",
              "      <th>1</th>\n",
              "      <td>2013-2014</td>\n",
              "      <td>21</td>\n",
              "      <td>Barcelona</td>\n",
              "      <td>es ESP</td>\n",
              "      <td>1. La Liga</td>\n",
              "      <td>26</td>\n",
              "      <td>19</td>\n",
              "      <td>1734</td>\n",
              "      <td>9</td>\n",
              "      <td>8</td>\n",
              "      <td>1</td>\n",
              "      <td>1</td>\n",
              "      <td>6</td>\n",
              "      <td>0</td>\n",
              "      <td>0.47</td>\n",
              "      <td>0.42</td>\n",
              "      <td>0.88</td>\n",
              "      <td>0.42</td>\n",
              "      <td>0.83</td>\n",
              "      <td>NaN</td>\n",
              "      <td>NaN</td>\n",
              "      <td>NaN</td>\n",
              "      <td>NaN</td>\n",
              "      <td>NaN</td>\n",
              "      <td>NaN</td>\n",
              "      <td>NaN</td>\n",
              "      <td>NaN</td>\n",
              "      <td>Matches</td>\n",
              "    </tr>\n",
              "    <tr>\n",
              "      <th>2</th>\n",
              "      <td>2014-2015</td>\n",
              "      <td>22</td>\n",
              "      <td>Barcelona</td>\n",
              "      <td>NaN</td>\n",
              "      <td>1. Champions Lg</td>\n",
              "      <td>12</td>\n",
              "      <td>12</td>\n",
              "      <td>1027</td>\n",
              "      <td>10</td>\n",
              "      <td>1</td>\n",
              "      <td>0</td>\n",
              "      <td>0</td>\n",
              "      <td>1</td>\n",
              "      <td>0</td>\n",
              "      <td>0.88</td>\n",
              "      <td>0.09</td>\n",
              "      <td>0.96</td>\n",
              "      <td>0.88</td>\n",
              "      <td>0.96</td>\n",
              "      <td>NaN</td>\n",
              "      <td>NaN</td>\n",
              "      <td>NaN</td>\n",
              "      <td>NaN</td>\n",
              "      <td>NaN</td>\n",
              "      <td>NaN</td>\n",
              "      <td>NaN</td>\n",
              "      <td>NaN</td>\n",
              "      <td>Matches</td>\n",
              "    </tr>\n",
              "    <tr>\n",
              "      <th>3</th>\n",
              "      <td>2014-2015</td>\n",
              "      <td>22</td>\n",
              "      <td>Barcelona</td>\n",
              "      <td>es ESP</td>\n",
              "      <td>Copa del Rey</td>\n",
              "      <td>6</td>\n",
              "      <td>6</td>\n",
              "      <td>501</td>\n",
              "      <td>7</td>\n",
              "      <td>0</td>\n",
              "      <td>0</td>\n",
              "      <td>1</td>\n",
              "      <td>1</td>\n",
              "      <td>0</td>\n",
              "      <td>1.26</td>\n",
              "      <td>0.00</td>\n",
              "      <td>1.26</td>\n",
              "      <td>1.26</td>\n",
              "      <td>1.26</td>\n",
              "      <td>NaN</td>\n",
              "      <td>NaN</td>\n",
              "      <td>NaN</td>\n",
              "      <td>NaN</td>\n",
              "      <td>NaN</td>\n",
              "      <td>NaN</td>\n",
              "      <td>NaN</td>\n",
              "      <td>NaN</td>\n",
              "      <td>Matches</td>\n",
              "    </tr>\n",
              "    <tr>\n",
              "      <th>4</th>\n",
              "      <td>2014-2015</td>\n",
              "      <td>22</td>\n",
              "      <td>Barcelona</td>\n",
              "      <td>es ESP</td>\n",
              "      <td>1. La Liga</td>\n",
              "      <td>33</td>\n",
              "      <td>29</td>\n",
              "      <td>2562</td>\n",
              "      <td>22</td>\n",
              "      <td>7</td>\n",
              "      <td>1</td>\n",
              "      <td>1</td>\n",
              "      <td>6</td>\n",
              "      <td>0</td>\n",
              "      <td>0.77</td>\n",
              "      <td>0.25</td>\n",
              "      <td>1.02</td>\n",
              "      <td>0.74</td>\n",
              "      <td>0.98</td>\n",
              "      <td>NaN</td>\n",
              "      <td>NaN</td>\n",
              "      <td>NaN</td>\n",
              "      <td>NaN</td>\n",
              "      <td>NaN</td>\n",
              "      <td>NaN</td>\n",
              "      <td>NaN</td>\n",
              "      <td>NaN</td>\n",
              "      <td>Matches</td>\n",
              "    </tr>\n",
              "  </tbody>\n",
              "</table>\n",
              "</div>"
            ],
            "text/plain": [
              "  Unnamed: 0_level_0 Unnamed: 1_level_0  ... Per 90 Minutes Unnamed: 27_level_0\n",
              "              Season                Age  ...        npxG+xA             Matches\n",
              "0          2013-2014                 21  ...            NaN             Matches\n",
              "1          2013-2014                 21  ...            NaN             Matches\n",
              "2          2014-2015                 22  ...            NaN             Matches\n",
              "3          2014-2015                 22  ...            NaN             Matches\n",
              "4          2014-2015                 22  ...            NaN             Matches\n",
              "\n",
              "[5 rows x 28 columns]"
            ]
          },
          "metadata": {
            "tags": []
          },
          "execution_count": 6
        }
      ]
    },
    {
      "cell_type": "code",
      "metadata": {
        "id": "ywccH_13LgMB",
        "colab": {
          "base_uri": "https://localhost:8080/",
          "height": 286
        },
        "outputId": "0d9ec6c7-b0cd-4106-f364-4bb61037c616"
      },
      "source": [
        "#Doing the same for obtain Mbappe's table\n",
        "url = 'https://fbref.com/en/players/42fd9c7f/all_comps/Kylian-Mbappe-Stats---All-Competitions'\n",
        "response = urlopen(url)\n",
        "\n",
        "#reading html\n",
        "html = response.read()\n",
        "html \n",
        "\n",
        "#reading organized html \n",
        "soup = BeautifulSoup(html, 'html.parser')\n",
        "soup\n",
        "\n",
        "#extracting table\n",
        "table = soup.find_all(name='table')\n",
        "table = table[0]\n",
        "table\n",
        "\n",
        "#transforming into DF\n",
        "table_str = str(table)\n",
        "mbappe = pd.read_html(table_str)[0]\n",
        "mbappe.head()"
      ],
      "execution_count": null,
      "outputs": [
        {
          "output_type": "execute_result",
          "data": {
            "text/html": [
              "<div>\n",
              "<style scoped>\n",
              "    .dataframe tbody tr th:only-of-type {\n",
              "        vertical-align: middle;\n",
              "    }\n",
              "\n",
              "    .dataframe tbody tr th {\n",
              "        vertical-align: top;\n",
              "    }\n",
              "\n",
              "    .dataframe thead tr th {\n",
              "        text-align: left;\n",
              "    }\n",
              "</style>\n",
              "<table border=\"1\" class=\"dataframe\">\n",
              "  <thead>\n",
              "    <tr>\n",
              "      <th></th>\n",
              "      <th>Unnamed: 0_level_0</th>\n",
              "      <th>Unnamed: 1_level_0</th>\n",
              "      <th>Unnamed: 2_level_0</th>\n",
              "      <th>Unnamed: 3_level_0</th>\n",
              "      <th>Unnamed: 4_level_0</th>\n",
              "      <th colspan=\"3\" halign=\"left\">Playing Time</th>\n",
              "      <th colspan=\"6\" halign=\"left\">Performance</th>\n",
              "      <th colspan=\"5\" halign=\"left\">Per 90 Minutes</th>\n",
              "      <th colspan=\"3\" halign=\"left\">Expected</th>\n",
              "      <th colspan=\"5\" halign=\"left\">Per 90 Minutes</th>\n",
              "      <th>Unnamed: 27_level_0</th>\n",
              "    </tr>\n",
              "    <tr>\n",
              "      <th></th>\n",
              "      <th>Season</th>\n",
              "      <th>Age</th>\n",
              "      <th>Squad</th>\n",
              "      <th>Country</th>\n",
              "      <th>Comp</th>\n",
              "      <th>MP</th>\n",
              "      <th>Starts</th>\n",
              "      <th>Min</th>\n",
              "      <th>Gls</th>\n",
              "      <th>Ast</th>\n",
              "      <th>PK</th>\n",
              "      <th>PKatt</th>\n",
              "      <th>CrdY</th>\n",
              "      <th>CrdR</th>\n",
              "      <th>Gls</th>\n",
              "      <th>Ast</th>\n",
              "      <th>G+A</th>\n",
              "      <th>G-PK</th>\n",
              "      <th>G+A-PK</th>\n",
              "      <th>xG</th>\n",
              "      <th>npxG</th>\n",
              "      <th>xA</th>\n",
              "      <th>xG</th>\n",
              "      <th>xA</th>\n",
              "      <th>xG+xA</th>\n",
              "      <th>npxG</th>\n",
              "      <th>npxG+xA</th>\n",
              "      <th>Matches</th>\n",
              "    </tr>\n",
              "  </thead>\n",
              "  <tbody>\n",
              "    <tr>\n",
              "      <th>0</th>\n",
              "      <td>2015-2016</td>\n",
              "      <td>16</td>\n",
              "      <td>Monaco</td>\n",
              "      <td>fr FRA</td>\n",
              "      <td>1. Coupe de la Ligue</td>\n",
              "      <td>1</td>\n",
              "      <td>1</td>\n",
              "      <td>90</td>\n",
              "      <td>0</td>\n",
              "      <td>0</td>\n",
              "      <td>0</td>\n",
              "      <td>0</td>\n",
              "      <td>0</td>\n",
              "      <td>0</td>\n",
              "      <td>0.00</td>\n",
              "      <td>0.00</td>\n",
              "      <td>0.00</td>\n",
              "      <td>0.00</td>\n",
              "      <td>0.00</td>\n",
              "      <td>NaN</td>\n",
              "      <td>NaN</td>\n",
              "      <td>NaN</td>\n",
              "      <td>NaN</td>\n",
              "      <td>NaN</td>\n",
              "      <td>NaN</td>\n",
              "      <td>NaN</td>\n",
              "      <td>NaN</td>\n",
              "      <td>Matches</td>\n",
              "    </tr>\n",
              "    <tr>\n",
              "      <th>1</th>\n",
              "      <td>2015-2016</td>\n",
              "      <td>16</td>\n",
              "      <td>Monaco</td>\n",
              "      <td>NaN</td>\n",
              "      <td>2. Europa Lg</td>\n",
              "      <td>1</td>\n",
              "      <td>0</td>\n",
              "      <td>34</td>\n",
              "      <td>0</td>\n",
              "      <td>1</td>\n",
              "      <td>0</td>\n",
              "      <td>0</td>\n",
              "      <td>0</td>\n",
              "      <td>0</td>\n",
              "      <td>0.00</td>\n",
              "      <td>2.65</td>\n",
              "      <td>2.65</td>\n",
              "      <td>0.00</td>\n",
              "      <td>2.65</td>\n",
              "      <td>NaN</td>\n",
              "      <td>NaN</td>\n",
              "      <td>NaN</td>\n",
              "      <td>NaN</td>\n",
              "      <td>NaN</td>\n",
              "      <td>NaN</td>\n",
              "      <td>NaN</td>\n",
              "      <td>NaN</td>\n",
              "      <td>Matches</td>\n",
              "    </tr>\n",
              "    <tr>\n",
              "      <th>2</th>\n",
              "      <td>2015-2016</td>\n",
              "      <td>16</td>\n",
              "      <td>Monaco</td>\n",
              "      <td>fr FRA</td>\n",
              "      <td>1. Ligue 1</td>\n",
              "      <td>11</td>\n",
              "      <td>2</td>\n",
              "      <td>296</td>\n",
              "      <td>1</td>\n",
              "      <td>1</td>\n",
              "      <td>0</td>\n",
              "      <td>0</td>\n",
              "      <td>1</td>\n",
              "      <td>0</td>\n",
              "      <td>0.30</td>\n",
              "      <td>0.30</td>\n",
              "      <td>0.61</td>\n",
              "      <td>0.30</td>\n",
              "      <td>0.61</td>\n",
              "      <td>NaN</td>\n",
              "      <td>NaN</td>\n",
              "      <td>NaN</td>\n",
              "      <td>NaN</td>\n",
              "      <td>NaN</td>\n",
              "      <td>NaN</td>\n",
              "      <td>NaN</td>\n",
              "      <td>NaN</td>\n",
              "      <td>Matches</td>\n",
              "    </tr>\n",
              "    <tr>\n",
              "      <th>3</th>\n",
              "      <td>2016-2017</td>\n",
              "      <td>17</td>\n",
              "      <td>Monaco</td>\n",
              "      <td>NaN</td>\n",
              "      <td>1. Champions Lg</td>\n",
              "      <td>9</td>\n",
              "      <td>6</td>\n",
              "      <td>536</td>\n",
              "      <td>6</td>\n",
              "      <td>0</td>\n",
              "      <td>0</td>\n",
              "      <td>0</td>\n",
              "      <td>0</td>\n",
              "      <td>0</td>\n",
              "      <td>1.01</td>\n",
              "      <td>0.00</td>\n",
              "      <td>1.01</td>\n",
              "      <td>1.01</td>\n",
              "      <td>1.01</td>\n",
              "      <td>NaN</td>\n",
              "      <td>NaN</td>\n",
              "      <td>NaN</td>\n",
              "      <td>NaN</td>\n",
              "      <td>NaN</td>\n",
              "      <td>NaN</td>\n",
              "      <td>NaN</td>\n",
              "      <td>NaN</td>\n",
              "      <td>Matches</td>\n",
              "    </tr>\n",
              "    <tr>\n",
              "      <th>4</th>\n",
              "      <td>2016-2017</td>\n",
              "      <td>17</td>\n",
              "      <td>Monaco</td>\n",
              "      <td>fr FRA</td>\n",
              "      <td>Coupe de France</td>\n",
              "      <td>0</td>\n",
              "      <td>0</td>\n",
              "      <td>NaN</td>\n",
              "      <td>NaN</td>\n",
              "      <td>NaN</td>\n",
              "      <td>NaN</td>\n",
              "      <td>NaN</td>\n",
              "      <td>NaN</td>\n",
              "      <td>NaN</td>\n",
              "      <td>NaN</td>\n",
              "      <td>NaN</td>\n",
              "      <td>NaN</td>\n",
              "      <td>NaN</td>\n",
              "      <td>NaN</td>\n",
              "      <td>NaN</td>\n",
              "      <td>NaN</td>\n",
              "      <td>NaN</td>\n",
              "      <td>NaN</td>\n",
              "      <td>NaN</td>\n",
              "      <td>NaN</td>\n",
              "      <td>NaN</td>\n",
              "      <td>NaN</td>\n",
              "      <td>Matches</td>\n",
              "    </tr>\n",
              "  </tbody>\n",
              "</table>\n",
              "</div>"
            ],
            "text/plain": [
              "  Unnamed: 0_level_0 Unnamed: 1_level_0  ... Per 90 Minutes Unnamed: 27_level_0\n",
              "              Season                Age  ...        npxG+xA             Matches\n",
              "0          2015-2016                 16  ...            NaN             Matches\n",
              "1          2015-2016                 16  ...            NaN             Matches\n",
              "2          2015-2016                 16  ...            NaN             Matches\n",
              "3          2016-2017                 17  ...            NaN             Matches\n",
              "4          2016-2017                 17  ...            NaN             Matches\n",
              "\n",
              "[5 rows x 28 columns]"
            ]
          },
          "metadata": {
            "tags": []
          },
          "execution_count": 7
        }
      ]
    },
    {
      "cell_type": "markdown",
      "metadata": {
        "id": "WovIFevYvaK0"
      },
      "source": [
        "#Handling the tables"
      ]
    },
    {
      "cell_type": "code",
      "metadata": {
        "id": "AMlPyiCQNLFr"
      },
      "source": [
        "neymar.columns = ['Season','Age','Squad','Country','Comp','MP','Starts','Min',\n",
        "                  'Gls','Ast','PK','PKatt','CrdY','CrdR','Gls_90min','Ast_90min','G+A','G-PK','G+A-PK',\n",
        "                  'xG','npxG','xA','xG','xA','xG+xA','npxG','npxG+xA','Matches']"
      ],
      "execution_count": null,
      "outputs": []
    },
    {
      "cell_type": "code",
      "metadata": {
        "id": "lw5NSUSBPeeX"
      },
      "source": [
        "mbappe.columns = ['Season','Age','Squad','Country','Comp','MP','Starts','Min',\n",
        "                  'Gls','Ast','PK','PKatt','CrdY','CrdR','Gls_90min','Ast_90min','G+A','G-PK','G+A-PK',\n",
        "                  'xG','npxG','xA','xG','xA','xG+xA','npxG','npxG+xA','Matches']"
      ],
      "execution_count": null,
      "outputs": []
    },
    {
      "cell_type": "code",
      "metadata": {
        "id": "CJpNSWPzQBGG"
      },
      "source": [
        "neymar.drop(['xG','npxG','xA','xG','xA','xG+xA','npxG','npxG+xA','Matches'],\n",
        "            axis = 1, inplace = True)\n",
        "mbappe.drop(['xG','npxG','xA','xG','xA','xG+xA','npxG','npxG+xA','Matches'],\n",
        "            axis = 1, inplace = True)"
      ],
      "execution_count": null,
      "outputs": []
    },
    {
      "cell_type": "code",
      "metadata": {
        "id": "qzdPqYEv_OTR",
        "colab": {
          "base_uri": "https://localhost:8080/",
          "height": 204
        },
        "outputId": "d871f6cd-fa83-4873-8e53-5d498c1dbe74"
      },
      "source": [
        "neymar.head()"
      ],
      "execution_count": null,
      "outputs": [
        {
          "output_type": "execute_result",
          "data": {
            "text/html": [
              "<div>\n",
              "<style scoped>\n",
              "    .dataframe tbody tr th:only-of-type {\n",
              "        vertical-align: middle;\n",
              "    }\n",
              "\n",
              "    .dataframe tbody tr th {\n",
              "        vertical-align: top;\n",
              "    }\n",
              "\n",
              "    .dataframe thead th {\n",
              "        text-align: right;\n",
              "    }\n",
              "</style>\n",
              "<table border=\"1\" class=\"dataframe\">\n",
              "  <thead>\n",
              "    <tr style=\"text-align: right;\">\n",
              "      <th></th>\n",
              "      <th>Season</th>\n",
              "      <th>Age</th>\n",
              "      <th>Squad</th>\n",
              "      <th>Country</th>\n",
              "      <th>Comp</th>\n",
              "      <th>MP</th>\n",
              "      <th>Starts</th>\n",
              "      <th>Min</th>\n",
              "      <th>Gls</th>\n",
              "      <th>Ast</th>\n",
              "      <th>PK</th>\n",
              "      <th>PKatt</th>\n",
              "      <th>CrdY</th>\n",
              "      <th>CrdR</th>\n",
              "      <th>Gls_90min</th>\n",
              "      <th>Ast_90min</th>\n",
              "      <th>G+A</th>\n",
              "      <th>G-PK</th>\n",
              "      <th>G+A-PK</th>\n",
              "    </tr>\n",
              "  </thead>\n",
              "  <tbody>\n",
              "    <tr>\n",
              "      <th>0</th>\n",
              "      <td>2013-2014</td>\n",
              "      <td>21</td>\n",
              "      <td>Barcelona</td>\n",
              "      <td>NaN</td>\n",
              "      <td>1. Champions Lg</td>\n",
              "      <td>10</td>\n",
              "      <td>9</td>\n",
              "      <td>776</td>\n",
              "      <td>4</td>\n",
              "      <td>3</td>\n",
              "      <td>0</td>\n",
              "      <td>0</td>\n",
              "      <td>1</td>\n",
              "      <td>0</td>\n",
              "      <td>0.46</td>\n",
              "      <td>0.35</td>\n",
              "      <td>0.81</td>\n",
              "      <td>0.46</td>\n",
              "      <td>0.81</td>\n",
              "    </tr>\n",
              "    <tr>\n",
              "      <th>1</th>\n",
              "      <td>2013-2014</td>\n",
              "      <td>21</td>\n",
              "      <td>Barcelona</td>\n",
              "      <td>es ESP</td>\n",
              "      <td>1. La Liga</td>\n",
              "      <td>26</td>\n",
              "      <td>19</td>\n",
              "      <td>1734</td>\n",
              "      <td>9</td>\n",
              "      <td>8</td>\n",
              "      <td>1</td>\n",
              "      <td>1</td>\n",
              "      <td>6</td>\n",
              "      <td>0</td>\n",
              "      <td>0.47</td>\n",
              "      <td>0.42</td>\n",
              "      <td>0.88</td>\n",
              "      <td>0.42</td>\n",
              "      <td>0.83</td>\n",
              "    </tr>\n",
              "    <tr>\n",
              "      <th>2</th>\n",
              "      <td>2014-2015</td>\n",
              "      <td>22</td>\n",
              "      <td>Barcelona</td>\n",
              "      <td>NaN</td>\n",
              "      <td>1. Champions Lg</td>\n",
              "      <td>12</td>\n",
              "      <td>12</td>\n",
              "      <td>1027</td>\n",
              "      <td>10</td>\n",
              "      <td>1</td>\n",
              "      <td>0</td>\n",
              "      <td>0</td>\n",
              "      <td>1</td>\n",
              "      <td>0</td>\n",
              "      <td>0.88</td>\n",
              "      <td>0.09</td>\n",
              "      <td>0.96</td>\n",
              "      <td>0.88</td>\n",
              "      <td>0.96</td>\n",
              "    </tr>\n",
              "    <tr>\n",
              "      <th>3</th>\n",
              "      <td>2014-2015</td>\n",
              "      <td>22</td>\n",
              "      <td>Barcelona</td>\n",
              "      <td>es ESP</td>\n",
              "      <td>Copa del Rey</td>\n",
              "      <td>6</td>\n",
              "      <td>6</td>\n",
              "      <td>501</td>\n",
              "      <td>7</td>\n",
              "      <td>0</td>\n",
              "      <td>0</td>\n",
              "      <td>1</td>\n",
              "      <td>1</td>\n",
              "      <td>0</td>\n",
              "      <td>1.26</td>\n",
              "      <td>0.00</td>\n",
              "      <td>1.26</td>\n",
              "      <td>1.26</td>\n",
              "      <td>1.26</td>\n",
              "    </tr>\n",
              "    <tr>\n",
              "      <th>4</th>\n",
              "      <td>2014-2015</td>\n",
              "      <td>22</td>\n",
              "      <td>Barcelona</td>\n",
              "      <td>es ESP</td>\n",
              "      <td>1. La Liga</td>\n",
              "      <td>33</td>\n",
              "      <td>29</td>\n",
              "      <td>2562</td>\n",
              "      <td>22</td>\n",
              "      <td>7</td>\n",
              "      <td>1</td>\n",
              "      <td>1</td>\n",
              "      <td>6</td>\n",
              "      <td>0</td>\n",
              "      <td>0.77</td>\n",
              "      <td>0.25</td>\n",
              "      <td>1.02</td>\n",
              "      <td>0.74</td>\n",
              "      <td>0.98</td>\n",
              "    </tr>\n",
              "  </tbody>\n",
              "</table>\n",
              "</div>"
            ],
            "text/plain": [
              "      Season Age      Squad Country  ... Ast_90min   G+A  G-PK G+A-PK\n",
              "0  2013-2014  21  Barcelona     NaN  ...      0.35  0.81  0.46   0.81\n",
              "1  2013-2014  21  Barcelona  es ESP  ...      0.42  0.88  0.42   0.83\n",
              "2  2014-2015  22  Barcelona     NaN  ...      0.09  0.96  0.88   0.96\n",
              "3  2014-2015  22  Barcelona  es ESP  ...      0.00  1.26  1.26   1.26\n",
              "4  2014-2015  22  Barcelona  es ESP  ...      0.25  1.02  0.74   0.98\n",
              "\n",
              "[5 rows x 19 columns]"
            ]
          },
          "metadata": {
            "tags": []
          },
          "execution_count": 11
        }
      ]
    },
    {
      "cell_type": "code",
      "metadata": {
        "id": "jKYSY4vcRb6G",
        "colab": {
          "base_uri": "https://localhost:8080/",
          "height": 459
        },
        "outputId": "a423f439-971c-4cac-8831-55485e894396"
      },
      "source": [
        "neymar.info()"
      ],
      "execution_count": null,
      "outputs": [
        {
          "output_type": "stream",
          "text": [
            "<class 'pandas.core.frame.DataFrame'>\n",
            "RangeIndex: 36 entries, 0 to 35\n",
            "Data columns (total 19 columns):\n",
            " #   Column     Non-Null Count  Dtype \n",
            "---  ------     --------------  ----- \n",
            " 0   Season     34 non-null     object\n",
            " 1   Age        34 non-null     object\n",
            " 2   Squad      34 non-null     object\n",
            " 3   Country    18 non-null     object\n",
            " 4   Comp       28 non-null     object\n",
            " 5   MP         35 non-null     object\n",
            " 6   Starts     35 non-null     object\n",
            " 7   Min        35 non-null     object\n",
            " 8   Gls        35 non-null     object\n",
            " 9   Ast        35 non-null     object\n",
            " 10  PK         35 non-null     object\n",
            " 11  PKatt      35 non-null     object\n",
            " 12  CrdY       35 non-null     object\n",
            " 13  CrdR       35 non-null     object\n",
            " 14  Gls_90min  35 non-null     object\n",
            " 15  Ast_90min  35 non-null     object\n",
            " 16  G+A        35 non-null     object\n",
            " 17  G-PK       35 non-null     object\n",
            " 18  G+A-PK     35 non-null     object\n",
            "dtypes: object(19)\n",
            "memory usage: 5.5+ KB\n"
          ],
          "name": "stdout"
        }
      ]
    },
    {
      "cell_type": "markdown",
      "metadata": {
        "id": "GF2hHyFaw-5x"
      },
      "source": [
        "Scraping was not perfect, so we'll exclude all lines before line 23 (because they don't belongs to our table)."
      ]
    },
    {
      "cell_type": "code",
      "metadata": {
        "id": "mTgviIdrwSzD"
      },
      "source": [
        "for line in neymar.index:\n",
        "  if line > 23:\n",
        "    neymar.drop(line, inplace = True)"
      ],
      "execution_count": null,
      "outputs": []
    },
    {
      "cell_type": "code",
      "metadata": {
        "id": "sdXf_XhlRq7T"
      },
      "source": [
        "for line in mbappe.index:\n",
        "  if line > 21:\n",
        "    mbappe.drop(line, inplace = True)"
      ],
      "execution_count": null,
      "outputs": []
    },
    {
      "cell_type": "markdown",
      "metadata": {
        "id": "WLYqIVS1SYq9"
      },
      "source": [
        "When we obtain a html table with Pandas, all values are read as objects so I'll transform some columns in numeric numbers."
      ]
    },
    {
      "cell_type": "code",
      "metadata": {
        "id": "hMkrg5V2y8no"
      },
      "source": [
        "numeric_cols = neymar.drop(['Season','Squad','Country','Comp'], axis = 1)\n",
        "cat_cols = neymar[['Season','Squad','Country','Comp']]"
      ],
      "execution_count": null,
      "outputs": []
    },
    {
      "cell_type": "code",
      "metadata": {
        "id": "ZHny0H9TWfVn"
      },
      "source": [
        "numeric_cols = numeric_cols.astype(float)"
      ],
      "execution_count": null,
      "outputs": []
    },
    {
      "cell_type": "code",
      "metadata": {
        "id": "RlqSWzSKWalk",
        "colab": {
          "base_uri": "https://localhost:8080/",
          "height": 459
        },
        "outputId": "5991b021-be38-4621-f35f-d19ef4bfce74"
      },
      "source": [
        "ney = pd.concat([cat_cols, numeric_cols], axis = 1)\n",
        "ney.info()"
      ],
      "execution_count": null,
      "outputs": [
        {
          "output_type": "stream",
          "text": [
            "<class 'pandas.core.frame.DataFrame'>\n",
            "Int64Index: 24 entries, 0 to 23\n",
            "Data columns (total 19 columns):\n",
            " #   Column     Non-Null Count  Dtype  \n",
            "---  ------     --------------  -----  \n",
            " 0   Season     24 non-null     object \n",
            " 1   Squad      24 non-null     object \n",
            " 2   Country    17 non-null     object \n",
            " 3   Comp       24 non-null     object \n",
            " 4   Age        24 non-null     float64\n",
            " 5   MP         24 non-null     float64\n",
            " 6   Starts     24 non-null     float64\n",
            " 7   Min        24 non-null     float64\n",
            " 8   Gls        24 non-null     float64\n",
            " 9   Ast        24 non-null     float64\n",
            " 10  PK         24 non-null     float64\n",
            " 11  PKatt      24 non-null     float64\n",
            " 12  CrdY       24 non-null     float64\n",
            " 13  CrdR       24 non-null     float64\n",
            " 14  Gls_90min  24 non-null     float64\n",
            " 15  Ast_90min  24 non-null     float64\n",
            " 16  G+A        24 non-null     float64\n",
            " 17  G-PK       24 non-null     float64\n",
            " 18  G+A-PK     24 non-null     float64\n",
            "dtypes: float64(15), object(4)\n",
            "memory usage: 3.8+ KB\n"
          ],
          "name": "stdout"
        }
      ]
    },
    {
      "cell_type": "code",
      "metadata": {
        "id": "Rl_gr9ZBW9-C",
        "colab": {
          "base_uri": "https://localhost:8080/",
          "height": 459
        },
        "outputId": "644abdb0-8b00-4ba4-abb3-bf6a681de3ef"
      },
      "source": [
        "#doing the same for Mbappe's table\n",
        "numeric_cols = mbappe.drop(['Season','Squad','Country','Comp'], axis = 1)\n",
        "cat_cols = mbappe[['Season','Squad','Country','Comp']]\n",
        "\n",
        "numeric_cols = numeric_cols.astype(float)\n",
        "\n",
        "mbappe = pd.concat([cat_cols, numeric_cols], axis = 1)\n",
        "mbappe.info()"
      ],
      "execution_count": null,
      "outputs": [
        {
          "output_type": "stream",
          "text": [
            "<class 'pandas.core.frame.DataFrame'>\n",
            "Int64Index: 22 entries, 0 to 21\n",
            "Data columns (total 19 columns):\n",
            " #   Column     Non-Null Count  Dtype  \n",
            "---  ------     --------------  -----  \n",
            " 0   Season     22 non-null     object \n",
            " 1   Squad      22 non-null     object \n",
            " 2   Country    17 non-null     object \n",
            " 3   Comp       22 non-null     object \n",
            " 4   Age        22 non-null     float64\n",
            " 5   MP         22 non-null     float64\n",
            " 6   Starts     22 non-null     float64\n",
            " 7   Min        21 non-null     float64\n",
            " 8   Gls        21 non-null     float64\n",
            " 9   Ast        21 non-null     float64\n",
            " 10  PK         21 non-null     float64\n",
            " 11  PKatt      21 non-null     float64\n",
            " 12  CrdY       21 non-null     float64\n",
            " 13  CrdR       21 non-null     float64\n",
            " 14  Gls_90min  21 non-null     float64\n",
            " 15  Ast_90min  21 non-null     float64\n",
            " 16  G+A        21 non-null     float64\n",
            " 17  G-PK       21 non-null     float64\n",
            " 18  G+A-PK     21 non-null     float64\n",
            "dtypes: float64(15), object(4)\n",
            "memory usage: 3.4+ KB\n"
          ],
          "name": "stdout"
        }
      ]
    },
    {
      "cell_type": "markdown",
      "metadata": {
        "id": "2etkaQxSyS91"
      },
      "source": [
        "# Dataset"
      ]
    },
    {
      "cell_type": "markdown",
      "metadata": {
        "id": "yKFq8qwDyjmg"
      },
      "source": [
        "Season - Usualy 10 months of Championships <br>\n",
        "Age - Age of player<br>\n",
        "Squad - Club of player<br>\n",
        "Country - Country of Club <br>\n",
        "Comp - Competition<br>\n",
        "MP - Matches played by player<br>\n",
        "Starts - Games started by player<br>\n",
        "Min - Minutes <br>\n",
        "Gls - Goals scored<br>\n",
        "Ast - Assists<br>\n",
        "PK - Penalti Kicks made<br>\n",
        "PKatt - Penalti Kicks attempt<br>\n",
        "CrdY - Yellow Cards<br>\n",
        "CrdR - Red Cards<br>\n",
        "Gls_90min - Goals per game<br>\n",
        "Ast_90min - Assists per game<br>\n",
        "G+A - Golas plus assists per game<br>\n",
        "G-PK - Goals minus penalti kicks per game<br>\n",
        "G+A PK - Goals plus Assists minus penaltis per game <br>\n",
        "\n"
      ]
    },
    {
      "cell_type": "markdown",
      "metadata": {
        "id": "Vk7kah0wvtyU"
      },
      "source": [
        "#Exploratory Data Analysis"
      ]
    },
    {
      "cell_type": "code",
      "metadata": {
        "id": "iiNkwkysXBM-",
        "colab": {
          "base_uri": "https://localhost:8080/",
          "height": 297
        },
        "outputId": "164e92e1-3e0e-40b4-ccbe-5a89a64f19ca"
      },
      "source": [
        "ney.describe().round(2)"
      ],
      "execution_count": null,
      "outputs": [
        {
          "output_type": "execute_result",
          "data": {
            "text/html": [
              "<div>\n",
              "<style scoped>\n",
              "    .dataframe tbody tr th:only-of-type {\n",
              "        vertical-align: middle;\n",
              "    }\n",
              "\n",
              "    .dataframe tbody tr th {\n",
              "        vertical-align: top;\n",
              "    }\n",
              "\n",
              "    .dataframe thead th {\n",
              "        text-align: right;\n",
              "    }\n",
              "</style>\n",
              "<table border=\"1\" class=\"dataframe\">\n",
              "  <thead>\n",
              "    <tr style=\"text-align: right;\">\n",
              "      <th></th>\n",
              "      <th>Age</th>\n",
              "      <th>MP</th>\n",
              "      <th>Starts</th>\n",
              "      <th>Min</th>\n",
              "      <th>Gls</th>\n",
              "      <th>Ast</th>\n",
              "      <th>PK</th>\n",
              "      <th>PKatt</th>\n",
              "      <th>CrdY</th>\n",
              "      <th>CrdR</th>\n",
              "      <th>Gls_90min</th>\n",
              "      <th>Ast_90min</th>\n",
              "      <th>G+A</th>\n",
              "      <th>G-PK</th>\n",
              "      <th>G+A-PK</th>\n",
              "    </tr>\n",
              "  </thead>\n",
              "  <tbody>\n",
              "    <tr>\n",
              "      <th>count</th>\n",
              "      <td>24.00</td>\n",
              "      <td>24.00</td>\n",
              "      <td>24.00</td>\n",
              "      <td>24.00</td>\n",
              "      <td>24.00</td>\n",
              "      <td>24.00</td>\n",
              "      <td>24.00</td>\n",
              "      <td>24.00</td>\n",
              "      <td>24.00</td>\n",
              "      <td>24.00</td>\n",
              "      <td>24.00</td>\n",
              "      <td>24.00</td>\n",
              "      <td>24.00</td>\n",
              "      <td>24.00</td>\n",
              "      <td>24.00</td>\n",
              "    </tr>\n",
              "    <tr>\n",
              "      <th>mean</th>\n",
              "      <td>24.46</td>\n",
              "      <td>11.04</td>\n",
              "      <td>10.42</td>\n",
              "      <td>930.71</td>\n",
              "      <td>7.21</td>\n",
              "      <td>4.08</td>\n",
              "      <td>1.12</td>\n",
              "      <td>1.38</td>\n",
              "      <td>2.62</td>\n",
              "      <td>0.21</td>\n",
              "      <td>0.73</td>\n",
              "      <td>0.33</td>\n",
              "      <td>1.06</td>\n",
              "      <td>0.62</td>\n",
              "      <td>0.95</td>\n",
              "    </tr>\n",
              "    <tr>\n",
              "      <th>std</th>\n",
              "      <td>1.96</td>\n",
              "      <td>10.37</td>\n",
              "      <td>9.71</td>\n",
              "      <td>863.23</td>\n",
              "      <td>6.97</td>\n",
              "      <td>4.06</td>\n",
              "      <td>1.65</td>\n",
              "      <td>1.93</td>\n",
              "      <td>2.14</td>\n",
              "      <td>0.59</td>\n",
              "      <td>0.39</td>\n",
              "      <td>0.25</td>\n",
              "      <td>0.39</td>\n",
              "      <td>0.42</td>\n",
              "      <td>0.44</td>\n",
              "    </tr>\n",
              "    <tr>\n",
              "      <th>min</th>\n",
              "      <td>21.00</td>\n",
              "      <td>1.00</td>\n",
              "      <td>0.00</td>\n",
              "      <td>15.00</td>\n",
              "      <td>0.00</td>\n",
              "      <td>0.00</td>\n",
              "      <td>0.00</td>\n",
              "      <td>0.00</td>\n",
              "      <td>0.00</td>\n",
              "      <td>0.00</td>\n",
              "      <td>0.00</td>\n",
              "      <td>0.00</td>\n",
              "      <td>0.00</td>\n",
              "      <td>0.00</td>\n",
              "      <td>0.00</td>\n",
              "    </tr>\n",
              "    <tr>\n",
              "      <th>25%</th>\n",
              "      <td>23.00</td>\n",
              "      <td>3.00</td>\n",
              "      <td>3.00</td>\n",
              "      <td>292.75</td>\n",
              "      <td>2.00</td>\n",
              "      <td>0.75</td>\n",
              "      <td>0.00</td>\n",
              "      <td>0.00</td>\n",
              "      <td>1.00</td>\n",
              "      <td>0.00</td>\n",
              "      <td>0.46</td>\n",
              "      <td>0.07</td>\n",
              "      <td>0.88</td>\n",
              "      <td>0.39</td>\n",
              "      <td>0.78</td>\n",
              "    </tr>\n",
              "    <tr>\n",
              "      <th>50%</th>\n",
              "      <td>25.00</td>\n",
              "      <td>7.00</td>\n",
              "      <td>6.50</td>\n",
              "      <td>607.50</td>\n",
              "      <td>4.00</td>\n",
              "      <td>2.50</td>\n",
              "      <td>0.50</td>\n",
              "      <td>1.00</td>\n",
              "      <td>2.00</td>\n",
              "      <td>0.00</td>\n",
              "      <td>0.73</td>\n",
              "      <td>0.35</td>\n",
              "      <td>1.04</td>\n",
              "      <td>0.58</td>\n",
              "      <td>0.99</td>\n",
              "    </tr>\n",
              "    <tr>\n",
              "      <th>75%</th>\n",
              "      <td>26.00</td>\n",
              "      <td>15.50</td>\n",
              "      <td>15.25</td>\n",
              "      <td>1348.25</td>\n",
              "      <td>10.75</td>\n",
              "      <td>7.00</td>\n",
              "      <td>1.00</td>\n",
              "      <td>1.25</td>\n",
              "      <td>4.25</td>\n",
              "      <td>0.00</td>\n",
              "      <td>0.90</td>\n",
              "      <td>0.47</td>\n",
              "      <td>1.31</td>\n",
              "      <td>0.78</td>\n",
              "      <td>1.20</td>\n",
              "    </tr>\n",
              "    <tr>\n",
              "      <th>max</th>\n",
              "      <td>27.00</td>\n",
              "      <td>34.00</td>\n",
              "      <td>34.00</td>\n",
              "      <td>3055.00</td>\n",
              "      <td>24.00</td>\n",
              "      <td>13.00</td>\n",
              "      <td>5.00</td>\n",
              "      <td>7.00</td>\n",
              "      <td>7.00</td>\n",
              "      <td>2.00</td>\n",
              "      <td>2.00</td>\n",
              "      <td>0.90</td>\n",
              "      <td>2.00</td>\n",
              "      <td>2.00</td>\n",
              "      <td>2.00</td>\n",
              "    </tr>\n",
              "  </tbody>\n",
              "</table>\n",
              "</div>"
            ],
            "text/plain": [
              "         Age     MP  Starts      Min  ...  Ast_90min    G+A   G-PK  G+A-PK\n",
              "count  24.00  24.00   24.00    24.00  ...      24.00  24.00  24.00   24.00\n",
              "mean   24.46  11.04   10.42   930.71  ...       0.33   1.06   0.62    0.95\n",
              "std     1.96  10.37    9.71   863.23  ...       0.25   0.39   0.42    0.44\n",
              "min    21.00   1.00    0.00    15.00  ...       0.00   0.00   0.00    0.00\n",
              "25%    23.00   3.00    3.00   292.75  ...       0.07   0.88   0.39    0.78\n",
              "50%    25.00   7.00    6.50   607.50  ...       0.35   1.04   0.58    0.99\n",
              "75%    26.00  15.50   15.25  1348.25  ...       0.47   1.31   0.78    1.20\n",
              "max    27.00  34.00   34.00  3055.00  ...       0.90   2.00   2.00    2.00\n",
              "\n",
              "[8 rows x 15 columns]"
            ]
          },
          "metadata": {
            "tags": []
          },
          "execution_count": 19
        }
      ]
    },
    {
      "cell_type": "code",
      "metadata": {
        "id": "62H02YiyXEJT",
        "colab": {
          "base_uri": "https://localhost:8080/",
          "height": 297
        },
        "outputId": "ffef939a-bde4-40fa-f2fd-94534ac72846"
      },
      "source": [
        "mbappe.describe().round(2)"
      ],
      "execution_count": null,
      "outputs": [
        {
          "output_type": "execute_result",
          "data": {
            "text/html": [
              "<div>\n",
              "<style scoped>\n",
              "    .dataframe tbody tr th:only-of-type {\n",
              "        vertical-align: middle;\n",
              "    }\n",
              "\n",
              "    .dataframe tbody tr th {\n",
              "        vertical-align: top;\n",
              "    }\n",
              "\n",
              "    .dataframe thead th {\n",
              "        text-align: right;\n",
              "    }\n",
              "</style>\n",
              "<table border=\"1\" class=\"dataframe\">\n",
              "  <thead>\n",
              "    <tr style=\"text-align: right;\">\n",
              "      <th></th>\n",
              "      <th>Age</th>\n",
              "      <th>MP</th>\n",
              "      <th>Starts</th>\n",
              "      <th>Min</th>\n",
              "      <th>Gls</th>\n",
              "      <th>Ast</th>\n",
              "      <th>PK</th>\n",
              "      <th>PKatt</th>\n",
              "      <th>CrdY</th>\n",
              "      <th>CrdR</th>\n",
              "      <th>Gls_90min</th>\n",
              "      <th>Ast_90min</th>\n",
              "      <th>G+A</th>\n",
              "      <th>G-PK</th>\n",
              "      <th>G+A-PK</th>\n",
              "    </tr>\n",
              "  </thead>\n",
              "  <tbody>\n",
              "    <tr>\n",
              "      <th>count</th>\n",
              "      <td>22.00</td>\n",
              "      <td>22.00</td>\n",
              "      <td>22.00</td>\n",
              "      <td>21.00</td>\n",
              "      <td>21.00</td>\n",
              "      <td>21.00</td>\n",
              "      <td>21.00</td>\n",
              "      <td>21.00</td>\n",
              "      <td>21.00</td>\n",
              "      <td>21.00</td>\n",
              "      <td>21.00</td>\n",
              "      <td>21.00</td>\n",
              "      <td>21.00</td>\n",
              "      <td>21.00</td>\n",
              "      <td>21.00</td>\n",
              "    </tr>\n",
              "    <tr>\n",
              "      <th>mean</th>\n",
              "      <td>18.18</td>\n",
              "      <td>8.18</td>\n",
              "      <td>6.23</td>\n",
              "      <td>595.38</td>\n",
              "      <td>5.48</td>\n",
              "      <td>2.62</td>\n",
              "      <td>0.14</td>\n",
              "      <td>0.24</td>\n",
              "      <td>0.76</td>\n",
              "      <td>0.14</td>\n",
              "      <td>0.61</td>\n",
              "      <td>0.46</td>\n",
              "      <td>1.07</td>\n",
              "      <td>0.58</td>\n",
              "      <td>1.04</td>\n",
              "    </tr>\n",
              "    <tr>\n",
              "      <th>std</th>\n",
              "      <td>1.37</td>\n",
              "      <td>9.41</td>\n",
              "      <td>7.42</td>\n",
              "      <td>680.42</td>\n",
              "      <td>8.13</td>\n",
              "      <td>2.77</td>\n",
              "      <td>0.48</td>\n",
              "      <td>0.77</td>\n",
              "      <td>1.18</td>\n",
              "      <td>0.36</td>\n",
              "      <td>0.49</td>\n",
              "      <td>0.59</td>\n",
              "      <td>0.70</td>\n",
              "      <td>0.51</td>\n",
              "      <td>0.70</td>\n",
              "    </tr>\n",
              "    <tr>\n",
              "      <th>min</th>\n",
              "      <td>16.00</td>\n",
              "      <td>0.00</td>\n",
              "      <td>0.00</td>\n",
              "      <td>34.00</td>\n",
              "      <td>0.00</td>\n",
              "      <td>0.00</td>\n",
              "      <td>0.00</td>\n",
              "      <td>0.00</td>\n",
              "      <td>0.00</td>\n",
              "      <td>0.00</td>\n",
              "      <td>0.00</td>\n",
              "      <td>0.00</td>\n",
              "      <td>0.00</td>\n",
              "      <td>0.00</td>\n",
              "      <td>0.00</td>\n",
              "    </tr>\n",
              "    <tr>\n",
              "      <th>25%</th>\n",
              "      <td>17.00</td>\n",
              "      <td>1.25</td>\n",
              "      <td>1.00</td>\n",
              "      <td>122.00</td>\n",
              "      <td>0.00</td>\n",
              "      <td>0.00</td>\n",
              "      <td>0.00</td>\n",
              "      <td>0.00</td>\n",
              "      <td>0.00</td>\n",
              "      <td>0.00</td>\n",
              "      <td>0.00</td>\n",
              "      <td>0.00</td>\n",
              "      <td>0.71</td>\n",
              "      <td>0.00</td>\n",
              "      <td>0.71</td>\n",
              "    </tr>\n",
              "    <tr>\n",
              "      <th>50%</th>\n",
              "      <td>18.00</td>\n",
              "      <td>4.00</td>\n",
              "      <td>3.00</td>\n",
              "      <td>296.00</td>\n",
              "      <td>3.00</td>\n",
              "      <td>2.00</td>\n",
              "      <td>0.00</td>\n",
              "      <td>0.00</td>\n",
              "      <td>0.00</td>\n",
              "      <td>0.00</td>\n",
              "      <td>0.56</td>\n",
              "      <td>0.39</td>\n",
              "      <td>1.02</td>\n",
              "      <td>0.56</td>\n",
              "      <td>1.01</td>\n",
              "    </tr>\n",
              "    <tr>\n",
              "      <th>75%</th>\n",
              "      <td>19.00</td>\n",
              "      <td>9.75</td>\n",
              "      <td>7.50</td>\n",
              "      <td>658.00</td>\n",
              "      <td>5.00</td>\n",
              "      <td>5.00</td>\n",
              "      <td>0.00</td>\n",
              "      <td>0.00</td>\n",
              "      <td>1.00</td>\n",
              "      <td>0.00</td>\n",
              "      <td>1.00</td>\n",
              "      <td>0.68</td>\n",
              "      <td>1.38</td>\n",
              "      <td>1.00</td>\n",
              "      <td>1.38</td>\n",
              "    </tr>\n",
              "    <tr>\n",
              "      <th>max</th>\n",
              "      <td>20.00</td>\n",
              "      <td>29.00</td>\n",
              "      <td>24.00</td>\n",
              "      <td>2343.00</td>\n",
              "      <td>33.00</td>\n",
              "      <td>9.00</td>\n",
              "      <td>2.00</td>\n",
              "      <td>3.00</td>\n",
              "      <td>5.00</td>\n",
              "      <td>1.00</td>\n",
              "      <td>1.70</td>\n",
              "      <td>2.65</td>\n",
              "      <td>2.65</td>\n",
              "      <td>1.70</td>\n",
              "      <td>2.65</td>\n",
              "    </tr>\n",
              "  </tbody>\n",
              "</table>\n",
              "</div>"
            ],
            "text/plain": [
              "         Age     MP  Starts      Min  ...  Ast_90min    G+A   G-PK  G+A-PK\n",
              "count  22.00  22.00   22.00    21.00  ...      21.00  21.00  21.00   21.00\n",
              "mean   18.18   8.18    6.23   595.38  ...       0.46   1.07   0.58    1.04\n",
              "std     1.37   9.41    7.42   680.42  ...       0.59   0.70   0.51    0.70\n",
              "min    16.00   0.00    0.00    34.00  ...       0.00   0.00   0.00    0.00\n",
              "25%    17.00   1.25    1.00   122.00  ...       0.00   0.71   0.00    0.71\n",
              "50%    18.00   4.00    3.00   296.00  ...       0.39   1.02   0.56    1.01\n",
              "75%    19.00   9.75    7.50   658.00  ...       0.68   1.38   1.00    1.38\n",
              "max    20.00  29.00   24.00  2343.00  ...       2.65   2.65   1.70    2.65\n",
              "\n",
              "[8 rows x 15 columns]"
            ]
          },
          "metadata": {
            "tags": []
          },
          "execution_count": 20
        }
      ]
    },
    {
      "cell_type": "markdown",
      "metadata": {
        "id": "6YqpoLty4Myn"
      },
      "source": [
        "Notes:\n",
        "\n",
        "1. Neymar has average of minutes played biggest than Mbappe.\n",
        "\n",
        "2. The greatest number of goals that Neymar scored in a championship was 24, while Mbappe's was 33 and the Brazilian's average goal in the championships was higher than French player, (7.21 and 5.48, respectively). Which shows that Neymar has more regularity when we talk about goals by competitions.\n",
        "\n",
        "3. Mbappe receives fewer cards (yellow and red) than his teammate. In addition, both players have average goals + assists almost the same.\n",
        "\n",
        "4. In the best competition of their career, Mbappe and Neymar obtained 2.65 and 2.0, respectively, of goals + assists per game."
      ]
    },
    {
      "cell_type": "markdown",
      "metadata": {
        "id": "UD-Nac9r2pE6"
      },
      "source": [
        "Obs: The table references to Neymar after he had left Santos F.C and going to Barcelona! Seasons in Brazil will not appears."
      ]
    },
    {
      "cell_type": "markdown",
      "metadata": {
        "id": "Jjkohk3t_kCc"
      },
      "source": [
        "# Joining DataFrames"
      ]
    },
    {
      "cell_type": "code",
      "metadata": {
        "id": "zpcLLNlaum9m"
      },
      "source": [
        "#adding column with name 'Neymar' as all values.\n",
        "ney['Player'] = 'Neymar'"
      ],
      "execution_count": null,
      "outputs": []
    },
    {
      "cell_type": "code",
      "metadata": {
        "id": "M1wofN_a77g4",
        "colab": {
          "base_uri": "https://localhost:8080/",
          "height": 204
        },
        "outputId": "285531f1-c5be-4293-d6a5-d1962be29499"
      },
      "source": [
        "df = pd.concat([ney, mbappe])\n",
        "df.tail()"
      ],
      "execution_count": null,
      "outputs": [
        {
          "output_type": "execute_result",
          "data": {
            "text/html": [
              "<div>\n",
              "<style scoped>\n",
              "    .dataframe tbody tr th:only-of-type {\n",
              "        vertical-align: middle;\n",
              "    }\n",
              "\n",
              "    .dataframe tbody tr th {\n",
              "        vertical-align: top;\n",
              "    }\n",
              "\n",
              "    .dataframe thead th {\n",
              "        text-align: right;\n",
              "    }\n",
              "</style>\n",
              "<table border=\"1\" class=\"dataframe\">\n",
              "  <thead>\n",
              "    <tr style=\"text-align: right;\">\n",
              "      <th></th>\n",
              "      <th>Season</th>\n",
              "      <th>Squad</th>\n",
              "      <th>Country</th>\n",
              "      <th>Comp</th>\n",
              "      <th>Age</th>\n",
              "      <th>MP</th>\n",
              "      <th>Starts</th>\n",
              "      <th>Min</th>\n",
              "      <th>Gls</th>\n",
              "      <th>Ast</th>\n",
              "      <th>PK</th>\n",
              "      <th>PKatt</th>\n",
              "      <th>CrdY</th>\n",
              "      <th>CrdR</th>\n",
              "      <th>Gls_90min</th>\n",
              "      <th>Ast_90min</th>\n",
              "      <th>G+A</th>\n",
              "      <th>G-PK</th>\n",
              "      <th>G+A-PK</th>\n",
              "      <th>Player</th>\n",
              "    </tr>\n",
              "  </thead>\n",
              "  <tbody>\n",
              "    <tr>\n",
              "      <th>17</th>\n",
              "      <td>2019-2020</td>\n",
              "      <td>Paris S-G</td>\n",
              "      <td>NaN</td>\n",
              "      <td>1. Champions Lg</td>\n",
              "      <td>20.0</td>\n",
              "      <td>10.0</td>\n",
              "      <td>6.0</td>\n",
              "      <td>654.0</td>\n",
              "      <td>5.0</td>\n",
              "      <td>5.0</td>\n",
              "      <td>0.0</td>\n",
              "      <td>0.0</td>\n",
              "      <td>1.0</td>\n",
              "      <td>0.0</td>\n",
              "      <td>0.69</td>\n",
              "      <td>0.69</td>\n",
              "      <td>1.38</td>\n",
              "      <td>0.69</td>\n",
              "      <td>1.38</td>\n",
              "      <td>NaN</td>\n",
              "    </tr>\n",
              "    <tr>\n",
              "      <th>18</th>\n",
              "      <td>2019-2020</td>\n",
              "      <td>Paris S-G</td>\n",
              "      <td>fr FRA</td>\n",
              "      <td>Coupe de France</td>\n",
              "      <td>20.0</td>\n",
              "      <td>3.0</td>\n",
              "      <td>3.0</td>\n",
              "      <td>212.0</td>\n",
              "      <td>4.0</td>\n",
              "      <td>1.0</td>\n",
              "      <td>0.0</td>\n",
              "      <td>0.0</td>\n",
              "      <td>1.0</td>\n",
              "      <td>0.0</td>\n",
              "      <td>1.70</td>\n",
              "      <td>0.42</td>\n",
              "      <td>2.12</td>\n",
              "      <td>1.70</td>\n",
              "      <td>2.12</td>\n",
              "      <td>NaN</td>\n",
              "    </tr>\n",
              "    <tr>\n",
              "      <th>19</th>\n",
              "      <td>2019-2020</td>\n",
              "      <td>Paris S-G</td>\n",
              "      <td>fr FRA</td>\n",
              "      <td>1. Coupe de la Ligue</td>\n",
              "      <td>20.0</td>\n",
              "      <td>3.0</td>\n",
              "      <td>3.0</td>\n",
              "      <td>247.0</td>\n",
              "      <td>2.0</td>\n",
              "      <td>3.0</td>\n",
              "      <td>0.0</td>\n",
              "      <td>0.0</td>\n",
              "      <td>1.0</td>\n",
              "      <td>0.0</td>\n",
              "      <td>0.73</td>\n",
              "      <td>1.09</td>\n",
              "      <td>1.82</td>\n",
              "      <td>0.73</td>\n",
              "      <td>1.82</td>\n",
              "      <td>NaN</td>\n",
              "    </tr>\n",
              "    <tr>\n",
              "      <th>20</th>\n",
              "      <td>2019-2020</td>\n",
              "      <td>Paris S-G</td>\n",
              "      <td>fr FRA</td>\n",
              "      <td>1. Ligue 1</td>\n",
              "      <td>20.0</td>\n",
              "      <td>20.0</td>\n",
              "      <td>17.0</td>\n",
              "      <td>1513.0</td>\n",
              "      <td>18.0</td>\n",
              "      <td>5.0</td>\n",
              "      <td>0.0</td>\n",
              "      <td>0.0</td>\n",
              "      <td>0.0</td>\n",
              "      <td>0.0</td>\n",
              "      <td>1.07</td>\n",
              "      <td>0.30</td>\n",
              "      <td>1.37</td>\n",
              "      <td>1.07</td>\n",
              "      <td>1.37</td>\n",
              "      <td>NaN</td>\n",
              "    </tr>\n",
              "    <tr>\n",
              "      <th>21</th>\n",
              "      <td>2019-2020</td>\n",
              "      <td>Paris S-G</td>\n",
              "      <td>fr FRA</td>\n",
              "      <td>Trophée des Champions</td>\n",
              "      <td>20.0</td>\n",
              "      <td>1.0</td>\n",
              "      <td>1.0</td>\n",
              "      <td>90.0</td>\n",
              "      <td>1.0</td>\n",
              "      <td>0.0</td>\n",
              "      <td>0.0</td>\n",
              "      <td>0.0</td>\n",
              "      <td>1.0</td>\n",
              "      <td>0.0</td>\n",
              "      <td>1.00</td>\n",
              "      <td>0.00</td>\n",
              "      <td>1.00</td>\n",
              "      <td>1.00</td>\n",
              "      <td>1.00</td>\n",
              "      <td>NaN</td>\n",
              "    </tr>\n",
              "  </tbody>\n",
              "</table>\n",
              "</div>"
            ],
            "text/plain": [
              "       Season      Squad Country  ...  G-PK  G+A-PK  Player\n",
              "17  2019-2020  Paris S-G     NaN  ...  0.69    1.38     NaN\n",
              "18  2019-2020  Paris S-G  fr FRA  ...  1.70    2.12     NaN\n",
              "19  2019-2020  Paris S-G  fr FRA  ...  0.73    1.82     NaN\n",
              "20  2019-2020  Paris S-G  fr FRA  ...  1.07    1.37     NaN\n",
              "21  2019-2020  Paris S-G  fr FRA  ...  1.00    1.00     NaN\n",
              "\n",
              "[5 rows x 20 columns]"
            ]
          },
          "metadata": {
            "tags": []
          },
          "execution_count": 22
        }
      ]
    },
    {
      "cell_type": "markdown",
      "metadata": {
        "id": "GIT9429rAAvL"
      },
      "source": [
        "Index of DataFrame it's wrong, so I'll handle this later and in the column 'Player', all lines of Mbappe has NaN values, so I'll change."
      ]
    },
    {
      "cell_type": "code",
      "metadata": {
        "id": "S-uUeI6YA_sh",
        "colab": {
          "base_uri": "https://localhost:8080/",
          "height": 816
        },
        "outputId": "6e47ca1a-2422-47d6-b6fa-f10339129e9b"
      },
      "source": [
        "df['Country'].isna()"
      ],
      "execution_count": null,
      "outputs": [
        {
          "output_type": "execute_result",
          "data": {
            "text/plain": [
              "0      True\n",
              "1     False\n",
              "2      True\n",
              "3     False\n",
              "4     False\n",
              "5      True\n",
              "6     False\n",
              "7     False\n",
              "8      True\n",
              "9     False\n",
              "10    False\n",
              "11     True\n",
              "12    False\n",
              "13    False\n",
              "14    False\n",
              "15     True\n",
              "16    False\n",
              "17    False\n",
              "18    False\n",
              "19    False\n",
              "20     True\n",
              "21    False\n",
              "22    False\n",
              "23    False\n",
              "0     False\n",
              "1      True\n",
              "2     False\n",
              "3      True\n",
              "4     False\n",
              "5     False\n",
              "6     False\n",
              "7     False\n",
              "8     False\n",
              "9      True\n",
              "10    False\n",
              "11    False\n",
              "12    False\n",
              "13     True\n",
              "14    False\n",
              "15    False\n",
              "16    False\n",
              "17     True\n",
              "18    False\n",
              "19    False\n",
              "20    False\n",
              "21    False\n",
              "Name: Country, dtype: bool"
            ]
          },
          "metadata": {
            "tags": []
          },
          "execution_count": 23
        }
      ]
    },
    {
      "cell_type": "markdown",
      "metadata": {
        "id": "V4u0q8XrBbXe"
      },
      "source": [
        "It's notorious that NaN values in country represents competitions of all countrys in Europe."
      ]
    },
    {
      "cell_type": "code",
      "metadata": {
        "id": "OMzRQLII7-_G"
      },
      "source": [
        "df['Country'].fillna('Europe', inplace = True) #changing the NaN values as Europe\n",
        "df['Player'].fillna('Mbappe', inplace = True) #changing the NaN values as Mbappe"
      ],
      "execution_count": null,
      "outputs": []
    },
    {
      "cell_type": "code",
      "metadata": {
        "id": "MvZ0zcPnADij",
        "colab": {
          "base_uri": "https://localhost:8080/",
          "height": 517
        },
        "outputId": "40fa05a1-b24e-4d66-c9c9-df96f1eacd63"
      },
      "source": [
        "plt.figure(figsize=(12,8))\n",
        "ax = sns.boxplot(x='Player', y='G+A', data = df, hue='Country')\n",
        "ax.set_xlabel('Player', fontsize=13)\n",
        "ax.set_ylabel('Goals + Assists', fontsize=13)\n",
        "ax"
      ],
      "execution_count": null,
      "outputs": [
        {
          "output_type": "execute_result",
          "data": {
            "text/plain": [
              "<matplotlib.axes._subplots.AxesSubplot at 0x7fd67df92cf8>"
            ]
          },
          "metadata": {
            "tags": []
          },
          "execution_count": 25
        },
        {
          "output_type": "display_data",
          "data": {
            "image/png": "[encoded data removed]",
            "text/plain": [
              "<Figure size 864x576 with 1 Axes>"
            ]
          },
          "metadata": {
            "tags": [],
            "needs_background": "light"
          }
        }
      ]
    },
    {
      "cell_type": "markdown",
      "metadata": {
        "id": "Fopsr9EDE1Xe"
      },
      "source": [
        "Analyzing Outlier, we can see that Mbappe played only 34 minutes in this competition and got 1 assist, that is the reason of your high percentual of goals + assists by game. In this case, i decided remove this register because it don't show relevant information."
      ]
    },
    {
      "cell_type": "code",
      "metadata": {
        "id": "TTzgP_ZhyoFl"
      },
      "source": [
        "df.reset_index(drop=True, inplace = True) #fixing the index"
      ],
      "execution_count": null,
      "outputs": []
    },
    {
      "cell_type": "code",
      "metadata": {
        "id": "dXwsTfkHGM_h",
        "colab": {
          "base_uri": "https://localhost:8080/",
          "height": 80
        },
        "outputId": "7bd193be-9311-48ab-afd4-2997dd2763b2"
      },
      "source": [
        "df[df['G+A'] == 2.65]"
      ],
      "execution_count": null,
      "outputs": [
        {
          "output_type": "execute_result",
          "data": {
            "text/html": [
              "<div>\n",
              "<style scoped>\n",
              "    .dataframe tbody tr th:only-of-type {\n",
              "        vertical-align: middle;\n",
              "    }\n",
              "\n",
              "    .dataframe tbody tr th {\n",
              "        vertical-align: top;\n",
              "    }\n",
              "\n",
              "    .dataframe thead th {\n",
              "        text-align: right;\n",
              "    }\n",
              "</style>\n",
              "<table border=\"1\" class=\"dataframe\">\n",
              "  <thead>\n",
              "    <tr style=\"text-align: right;\">\n",
              "      <th></th>\n",
              "      <th>Season</th>\n",
              "      <th>Squad</th>\n",
              "      <th>Country</th>\n",
              "      <th>Comp</th>\n",
              "      <th>Age</th>\n",
              "      <th>MP</th>\n",
              "      <th>Starts</th>\n",
              "      <th>Min</th>\n",
              "      <th>Gls</th>\n",
              "      <th>Ast</th>\n",
              "      <th>PK</th>\n",
              "      <th>PKatt</th>\n",
              "      <th>CrdY</th>\n",
              "      <th>CrdR</th>\n",
              "      <th>Gls_90min</th>\n",
              "      <th>Ast_90min</th>\n",
              "      <th>G+A</th>\n",
              "      <th>G-PK</th>\n",
              "      <th>G+A-PK</th>\n",
              "      <th>Player</th>\n",
              "    </tr>\n",
              "  </thead>\n",
              "  <tbody>\n",
              "    <tr>\n",
              "      <th>25</th>\n",
              "      <td>2015-2016</td>\n",
              "      <td>Monaco</td>\n",
              "      <td>Europe</td>\n",
              "      <td>2. Europa Lg</td>\n",
              "      <td>16.0</td>\n",
              "      <td>1.0</td>\n",
              "      <td>0.0</td>\n",
              "      <td>34.0</td>\n",
              "      <td>0.0</td>\n",
              "      <td>1.0</td>\n",
              "      <td>0.0</td>\n",
              "      <td>0.0</td>\n",
              "      <td>0.0</td>\n",
              "      <td>0.0</td>\n",
              "      <td>0.0</td>\n",
              "      <td>2.65</td>\n",
              "      <td>2.65</td>\n",
              "      <td>0.0</td>\n",
              "      <td>2.65</td>\n",
              "      <td>Mbappe</td>\n",
              "    </tr>\n",
              "  </tbody>\n",
              "</table>\n",
              "</div>"
            ],
            "text/plain": [
              "       Season   Squad Country          Comp  ...   G+A  G-PK  G+A-PK  Player\n",
              "25  2015-2016  Monaco  Europe  2. Europa Lg  ...  2.65   0.0    2.65  Mbappe\n",
              "\n",
              "[1 rows x 20 columns]"
            ]
          },
          "metadata": {
            "tags": []
          },
          "execution_count": 27
        }
      ]
    },
    {
      "cell_type": "code",
      "metadata": {
        "id": "3TTUed5jGRMx"
      },
      "source": [
        "df.drop(25, inplace = True) #removing the register"
      ],
      "execution_count": null,
      "outputs": []
    },
    {
      "cell_type": "code",
      "metadata": {
        "id": "ZxGNMMD5y7ET",
        "colab": {
          "base_uri": "https://localhost:8080/",
          "height": 517
        },
        "outputId": "b4435b3d-a45a-47c3-ecc9-1e304791d1b3"
      },
      "source": [
        "plt.figure(figsize=(12,8))\n",
        "ax = sns.boxplot(x='Player', y='G+A', data = df, hue='Country')\n",
        "ax.set_xlabel('Player', fontsize=13)\n",
        "ax.set_ylabel('Goals + Assists', fontsize=13)\n",
        "ax"
      ],
      "execution_count": null,
      "outputs": [
        {
          "output_type": "execute_result",
          "data": {
            "text/plain": [
              "<matplotlib.axes._subplots.AxesSubplot at 0x7fd67de50dd8>"
            ]
          },
          "metadata": {
            "tags": []
          },
          "execution_count": 29
        },
        {
          "output_type": "display_data",
          "data": {
            "image/png": "[encoded data removed]",
            "text/plain": [
              "<Figure size 864x576 with 1 Axes>"
            ]
          },
          "metadata": {
            "tags": [],
            "needs_background": "light"
          }
        }
      ]
    },
    {
      "cell_type": "markdown",
      "metadata": {
        "id": "iz4yvMpgzIId"
      },
      "source": [
        "Exploring graph above, in Europe Championships (Europe League and Champions League) both players has a Median 1.1 but Neymar have a biggest IQR (Interquartile Range) it means that the values of Goals + Assists per game of Brazilian player has more variation.\n",
        "\n",
        "Comparing the goals + assists per game of teammates in competitions of France (Coup de la Ligue, Ligue 1, Coupe de France and Trophée des Champions) we can observe similar informations but now Mbappe have the biggest IQR.\n",
        "The distribution of Neymar has left-skewed and Mbappe too but not so high."
      ]
    },
    {
      "cell_type": "code",
      "metadata": {
        "id": "qRKBK6ZU7-jp",
        "colab": {
          "base_uri": "https://localhost:8080/",
          "height": 374
        },
        "outputId": "1eb56830-2a32-4d21-ab5e-7b7d05412dc5"
      },
      "source": [
        "df.isna().sum()"
      ],
      "execution_count": null,
      "outputs": [
        {
          "output_type": "execute_result",
          "data": {
            "text/plain": [
              "Season       0\n",
              "Squad        0\n",
              "Country      0\n",
              "Comp         0\n",
              "Age          0\n",
              "MP           0\n",
              "Starts       0\n",
              "Min          1\n",
              "Gls          1\n",
              "Ast          1\n",
              "PK           1\n",
              "PKatt        1\n",
              "CrdY         1\n",
              "CrdR         1\n",
              "Gls_90min    1\n",
              "Ast_90min    1\n",
              "G+A          1\n",
              "G-PK         1\n",
              "G+A-PK       1\n",
              "Player       0\n",
              "dtype: int64"
            ]
          },
          "metadata": {
            "tags": []
          },
          "execution_count": 30
        }
      ]
    },
    {
      "cell_type": "code",
      "metadata": {
        "id": "zfifo-9271Xg",
        "colab": {
          "base_uri": "https://localhost:8080/",
          "height": 80
        },
        "outputId": "dae78308-2bb9-414f-f164-05376bb72681"
      },
      "source": [
        "df.query('Min == \"NaN\"')"
      ],
      "execution_count": null,
      "outputs": [
        {
          "output_type": "execute_result",
          "data": {
            "text/html": [
              "<div>\n",
              "<style scoped>\n",
              "    .dataframe tbody tr th:only-of-type {\n",
              "        vertical-align: middle;\n",
              "    }\n",
              "\n",
              "    .dataframe tbody tr th {\n",
              "        vertical-align: top;\n",
              "    }\n",
              "\n",
              "    .dataframe thead th {\n",
              "        text-align: right;\n",
              "    }\n",
              "</style>\n",
              "<table border=\"1\" class=\"dataframe\">\n",
              "  <thead>\n",
              "    <tr style=\"text-align: right;\">\n",
              "      <th></th>\n",
              "      <th>Season</th>\n",
              "      <th>Squad</th>\n",
              "      <th>Country</th>\n",
              "      <th>Comp</th>\n",
              "      <th>Age</th>\n",
              "      <th>MP</th>\n",
              "      <th>Starts</th>\n",
              "      <th>Min</th>\n",
              "      <th>Gls</th>\n",
              "      <th>Ast</th>\n",
              "      <th>PK</th>\n",
              "      <th>PKatt</th>\n",
              "      <th>CrdY</th>\n",
              "      <th>CrdR</th>\n",
              "      <th>Gls_90min</th>\n",
              "      <th>Ast_90min</th>\n",
              "      <th>G+A</th>\n",
              "      <th>G-PK</th>\n",
              "      <th>G+A-PK</th>\n",
              "      <th>Player</th>\n",
              "    </tr>\n",
              "  </thead>\n",
              "  <tbody>\n",
              "    <tr>\n",
              "      <th>28</th>\n",
              "      <td>2016-2017</td>\n",
              "      <td>Monaco</td>\n",
              "      <td>fr FRA</td>\n",
              "      <td>Coupe de France</td>\n",
              "      <td>17.0</td>\n",
              "      <td>0.0</td>\n",
              "      <td>0.0</td>\n",
              "      <td>NaN</td>\n",
              "      <td>NaN</td>\n",
              "      <td>NaN</td>\n",
              "      <td>NaN</td>\n",
              "      <td>NaN</td>\n",
              "      <td>NaN</td>\n",
              "      <td>NaN</td>\n",
              "      <td>NaN</td>\n",
              "      <td>NaN</td>\n",
              "      <td>NaN</td>\n",
              "      <td>NaN</td>\n",
              "      <td>NaN</td>\n",
              "      <td>Mbappe</td>\n",
              "    </tr>\n",
              "  </tbody>\n",
              "</table>\n",
              "</div>"
            ],
            "text/plain": [
              "       Season   Squad Country             Comp  ...  G+A  G-PK  G+A-PK  Player\n",
              "28  2016-2017  Monaco  fr FRA  Coupe de France  ...  NaN   NaN     NaN  Mbappe\n",
              "\n",
              "[1 rows x 20 columns]"
            ]
          },
          "metadata": {
            "tags": []
          },
          "execution_count": 32
        }
      ]
    },
    {
      "cell_type": "code",
      "metadata": {
        "id": "DinsMvQCJDqu"
      },
      "source": [
        "df.drop(28, inplace = True)"
      ],
      "execution_count": null,
      "outputs": []
    },
    {
      "cell_type": "markdown",
      "metadata": {
        "id": "1WUcV8a38tCF"
      },
      "source": [
        "Esses valores nulos estão em somente um registro, de uma temporada que o Mbappe tinha 17 anos. Deduzimos que nessa temporada e nessa competição o Mbappe pode ter se machucado ou ter ficado como reserva por opção do treinador."
      ]
    },
    {
      "cell_type": "code",
      "metadata": {
        "id": "DY0pkExt87JA",
        "colab": {
          "base_uri": "https://localhost:8080/",
          "height": 142
        },
        "outputId": "d171f288-8ebd-4658-d3be-55d7aac69908"
      },
      "source": [
        "df.groupby(by='Player').sum()"
      ],
      "execution_count": null,
      "outputs": [
        {
          "output_type": "execute_result",
          "data": {
            "text/html": [
              "<div>\n",
              "<style scoped>\n",
              "    .dataframe tbody tr th:only-of-type {\n",
              "        vertical-align: middle;\n",
              "    }\n",
              "\n",
              "    .dataframe tbody tr th {\n",
              "        vertical-align: top;\n",
              "    }\n",
              "\n",
              "    .dataframe thead th {\n",
              "        text-align: right;\n",
              "    }\n",
              "</style>\n",
              "<table border=\"1\" class=\"dataframe\">\n",
              "  <thead>\n",
              "    <tr style=\"text-align: right;\">\n",
              "      <th></th>\n",
              "      <th>Age</th>\n",
              "      <th>MP</th>\n",
              "      <th>Starts</th>\n",
              "      <th>Min</th>\n",
              "      <th>Gls</th>\n",
              "      <th>Ast</th>\n",
              "      <th>PK</th>\n",
              "      <th>PKatt</th>\n",
              "      <th>CrdY</th>\n",
              "      <th>CrdR</th>\n",
              "      <th>Gls_90min</th>\n",
              "      <th>Ast_90min</th>\n",
              "      <th>G+A</th>\n",
              "      <th>G-PK</th>\n",
              "      <th>G+A-PK</th>\n",
              "    </tr>\n",
              "    <tr>\n",
              "      <th>Player</th>\n",
              "      <th></th>\n",
              "      <th></th>\n",
              "      <th></th>\n",
              "      <th></th>\n",
              "      <th></th>\n",
              "      <th></th>\n",
              "      <th></th>\n",
              "      <th></th>\n",
              "      <th></th>\n",
              "      <th></th>\n",
              "      <th></th>\n",
              "      <th></th>\n",
              "      <th></th>\n",
              "      <th></th>\n",
              "      <th></th>\n",
              "    </tr>\n",
              "  </thead>\n",
              "  <tbody>\n",
              "    <tr>\n",
              "      <th>Mbappe</th>\n",
              "      <td>384.0</td>\n",
              "      <td>179.0</td>\n",
              "      <td>137.0</td>\n",
              "      <td>12469.0</td>\n",
              "      <td>115.0</td>\n",
              "      <td>54.0</td>\n",
              "      <td>3.0</td>\n",
              "      <td>5.0</td>\n",
              "      <td>16.0</td>\n",
              "      <td>3.0</td>\n",
              "      <td>12.74</td>\n",
              "      <td>7.08</td>\n",
              "      <td>19.82</td>\n",
              "      <td>12.19</td>\n",
              "      <td>19.28</td>\n",
              "    </tr>\n",
              "    <tr>\n",
              "      <th>Neymar</th>\n",
              "      <td>587.0</td>\n",
              "      <td>265.0</td>\n",
              "      <td>250.0</td>\n",
              "      <td>22337.0</td>\n",
              "      <td>173.0</td>\n",
              "      <td>98.0</td>\n",
              "      <td>27.0</td>\n",
              "      <td>33.0</td>\n",
              "      <td>63.0</td>\n",
              "      <td>5.0</td>\n",
              "      <td>17.45</td>\n",
              "      <td>8.00</td>\n",
              "      <td>25.47</td>\n",
              "      <td>14.83</td>\n",
              "      <td>22.81</td>\n",
              "    </tr>\n",
              "  </tbody>\n",
              "</table>\n",
              "</div>"
            ],
            "text/plain": [
              "          Age     MP  Starts      Min  ...  Ast_90min    G+A   G-PK  G+A-PK\n",
              "Player                                 ...                                 \n",
              "Mbappe  384.0  179.0   137.0  12469.0  ...       7.08  19.82  12.19   19.28\n",
              "Neymar  587.0  265.0   250.0  22337.0  ...       8.00  25.47  14.83   22.81\n",
              "\n",
              "[2 rows x 15 columns]"
            ]
          },
          "metadata": {
            "tags": []
          },
          "execution_count": 37
        }
      ]
    },
    {
      "cell_type": "markdown",
      "metadata": {
        "id": "3tX7nu9XBkCh"
      },
      "source": [
        "Using group by we can observe sum of player's stats in their carrer and do some notes.\n",
        "\n",
        "1. Neymar has more years playing football so his attributes are biggest than Mbappe.\n",
        "\n",
        "2. French player is next to Neymar in assist per game, goals minus penaltis per game (because Neymar is the official kicker) and goals plus assits minus penaltis."
      ]
    },
    {
      "cell_type": "code",
      "metadata": {
        "id": "Gjmyi0ZuAknA",
        "colab": {
          "base_uri": "https://localhost:8080/",
          "height": 375
        },
        "outputId": "370d9a22-e082-4927-d199-258871f19486"
      },
      "source": [
        "neymar = df.query('Player == \"Neymar\"')['G+A-PK']\n",
        "mbappe = df.query('Player == \"Mbappe\"')['G+A-PK']\n",
        "\n",
        "plt.figure(figsize=(17,12))\n",
        "\n",
        "plt.subplot(2, 2, 1)\n",
        "sns.distplot(neymar)\n",
        "\n",
        "plt.subplot(2, 2, 2)\n",
        "sns.distplot(mbappe)"
      ],
      "execution_count": null,
      "outputs": [
        {
          "output_type": "execute_result",
          "data": {
            "text/plain": [
              "<matplotlib.axes._subplots.AxesSubplot at 0x7fd6717816d8>"
            ]
          },
          "metadata": {
            "tags": []
          },
          "execution_count": 57
        },
        {
          "output_type": "display_data",
          "data": {
            "image/png": "[encoded data removed]",
            "text/plain": [
              "<Figure size 1224x864 with 2 Axes>"
            ]
          },
          "metadata": {
            "tags": [],
            "needs_background": "light"
          }
        }
      ]
    },
    {
      "cell_type": "markdown",
      "metadata": {
        "id": "7lyZBlEQKyRE"
      },
      "source": [
        "Neymar's distribuction has a normal format and the values are biggest than Mbappe's (pay attention on scale)."
      ]
    },
    {
      "cell_type": "markdown",
      "metadata": {
        "id": "fYelfq8DLThK"
      },
      "source": [
        "# Conclusion"
      ]
    },
    {
      "cell_type": "markdown",
      "metadata": {
        "id": "GNhHod81LXrP"
      },
      "source": [
        "I hope you understood the importance of collect data and that you need to know this to become a Data Scientist. \n",
        "\n",
        "In this project I could show a scraping of a website (two differents tables, join tables, transform types of columns and explore data.\n",
        "\n",
        "That was not a balanced comparison because Neymar has more experience than Mbappe but we could see interesting features like Brazilian athlete is more agressive than French and Neymar is more constant when we talk about goals in career."
      ]
    },
    {
      "cell_type": "code",
      "metadata": {
        "id": "9pWnpNWrafL2"
      },
      "source": [],
      "execution_count": null,
      "outputs": []
    }
  ]
}